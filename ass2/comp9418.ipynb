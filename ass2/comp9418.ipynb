{
 "cells": [
  {
   "cell_type": "markdown",
   "metadata": {},
   "source": [
    "# Assignment 2 (Practical)\n",
    "\n",
    "**COMP9418 - Advanced Topics in Statistical Machine Learning**\n",
    "\n",
    "**Louis Tiao** (TA), **Edwin V. Bonilla** (Instructor)\n",
    "\n",
    "*School of Computer Science and Engineering, UNSW Sydney*\n",
    "\n",
    "---\n",
    "\n",
    "In the practical component of this assignment you will build a *class-conditional classifier* using the mixture model described in the theory section of this assignment.\n",
    "\n",
    "The basic idea behind a class conditional classifier is to train a separate model for each class $p(\\mathbf{x} \\mid y)$, and use Bayes' rule to classify a novel data-point $\\mathbf{x}^*$ with:\n",
    "\n",
    "$$\n",
    "p(y^* \\mid \\mathbf{x}^*) = \\frac{p(\\mathbf{x}^* \\mid y^*) p(y^*)}{\\sum_{y'=1}^C p(\\mathbf{x}^* \\mid y') p(y')}\n",
    "$$\n",
    "\n",
    "(c.f. Barber textbook BRML, 2012, $\\S$23.3.4 or Murphy textbook MLaPP, 2012, $\\S$17.5.4).\n",
    "\n",
    "In this assignment, you will use the prescribed mixture model for each of the conditional densities $p(\\mathbf{x} | y)$ and a Categorical distribution for $p(y)$.\n",
    "\n",
    "### Prerequisites\n",
    "\n",
    "You will require the following packages for this assignment:\n",
    "\n",
    "- `numpy`\n",
    "- `scipy`\n",
    "- `scikit-learn`\n",
    "- `matplotlib`\n",
    "- `observations`\n",
    "\n",
    "Most of these may be installed with `pip`:\n",
    "\n",
    "    pip install numpy scipy scikit-learn matplotlib observations\n",
    "\n",
    "### Guidelines\n",
    "\n",
    "1. Unless otherwise indicated, you may not use any ML libraries and frameworks such as scikit-learn, TensorFlow to implement any training-related code. Your solution should be implement purely in NumPy/SciPy.\n",
    "2. Do not delete any of the existing code-blocks in this notebook. It will be used to assess the performance of your algorithm.\n",
    "\n",
    "### Assessment\n",
    "\n",
    "Your work will be assessed based on:\n",
    "- **[50%]** the application of the concepts for doing model selection, which allows you to learn a single model for prediction (Section 1);  \n",
    "- **[30%]** the code you write for making predicitions in your model (Section 2); and\n",
    "- **[20%]** the predictive performance of your model (Section 3). "
   ]
  },
  {
   "cell_type": "markdown",
   "metadata": {},
   "source": [
    "## Dataset\n",
    "\n",
    "You will be building a class-conditional classifier to classify digits from the [Fashion MNIST dataset](https://github.com/zalandoresearch/fashion-mnist), containing grayscale images of clothing items --- coats, shirts, sneakers, dresses and the like.\n",
    "\n",
    "This can be obtained with [observations](https://github.com/edwardlib/observations), a convenient tool for loading standard ML datasets."
   ]
  },
  {
   "cell_type": "code",
   "execution_count": null,
   "metadata": {},
   "outputs": [],
   "source": [
    "from observations import fashion_mnist\n",
    "from sklearn.preprocessing import LabelBinarizer"
   ]
  },
  {
   "cell_type": "code",
   "execution_count": null,
   "metadata": {},
   "outputs": [],
   "source": [
    "(x_train, y_train_), _ = fashion_mnist('.')"
   ]
  },
  {
   "cell_type": "markdown",
   "metadata": {},
   "source": [
    "There are 60k training examples, each consisting of 784-dimensional feature vectors corresponding to 28 x 28 pixel intensities."
   ]
  },
  {
   "cell_type": "code",
   "execution_count": null,
   "metadata": {},
   "outputs": [],
   "source": [
    "x_train.shape"
   ]
  },
  {
   "cell_type": "markdown",
   "metadata": {},
   "source": [
    "The pixel intensities are originally unsigned 8-bit integers (`uint8`) and should be normalized to be floating-point decimals within range $[0,1]$."
   ]
  },
  {
   "cell_type": "code",
   "execution_count": null,
   "metadata": {},
   "outputs": [],
   "source": [
    "x_train = x_train / 255."
   ]
  },
  {
   "cell_type": "markdown",
   "metadata": {},
   "source": [
    "The targets contain the class label corresponding to each example. For this assignment, you should represent this using the \"one-hot\" encoding. "
   ]
  },
  {
   "cell_type": "code",
   "execution_count": null,
   "metadata": {},
   "outputs": [],
   "source": [
    "y_train = LabelBinarizer().fit_transform(y_train_)\n",
    "y_train.shape"
   ]
  },
  {
   "cell_type": "markdown",
   "metadata": {},
   "source": [
    "Note that you are only to use the training data contained in `x_train`, `y_train` as we have define it. In order to learn and test you model, you may consider splitting these data into training, validation and testing. You may not use any other data to for training.\n",
    "\n",
    "In particular, if you want to assess the performance of your model in section 2, you must create a test set `test.npz`. You are not required to submit this test file as we will evaluate the performance of your model using our own test data."
   ]
  },
  {
   "cell_type": "markdown",
   "metadata": {},
   "source": [
    "## Preamble "
   ]
  },
  {
   "cell_type": "code",
   "execution_count": null,
   "metadata": {},
   "outputs": [],
   "source": [
    "%matplotlib inline"
   ]
  },
  {
   "cell_type": "code",
   "execution_count": null,
   "metadata": {},
   "outputs": [],
   "source": [
    "import numpy as np\n",
    "import matplotlib.pyplot as plt"
   ]
  },
  {
   "cell_type": "markdown",
   "metadata": {},
   "source": [
    "#### Constants"
   ]
  },
  {
   "cell_type": "markdown",
   "metadata": {},
   "source": [
    "You can use the function below to plot a digits in the dataset."
   ]
  },
  {
   "cell_type": "code",
   "execution_count": null,
   "metadata": {},
   "outputs": [],
   "source": [
    "def plot_image_grid(ax, images, n=20, m=None, img_rows=28, img_cols=28):\n",
    "    \"\"\"\n",
    "    Plot the first `n * m` vectors in the array as \n",
    "    a `n`-by-`m` grid of `img_rows`-by-`img_cols` images.\n",
    "    \"\"\"\n",
    "    if m is None:\n",
    "        m = n\n",
    " \n",
    "    grid = images[:n*m].reshape(n, m, img_rows, img_cols)\n",
    "\n",
    "    return ax.imshow(np.vstack(np.dstack(grid)), cmap='gray')"
   ]
  },
  {
   "cell_type": "markdown",
   "metadata": {},
   "source": [
    "Here we have the first 400 images in the training set."
   ]
  },
  {
   "cell_type": "code",
   "execution_count": null,
   "metadata": {},
   "outputs": [],
   "source": [
    "fig, ax = plt.subplots(figsize=(8, 8))\n",
    "\n",
    "plot_image_grid(ax, x_train, n=20)\n",
    "\n",
    "plt.show()"
   ]
  },
  {
   "cell_type": "markdown",
   "metadata": {},
   "source": [
    "Here we have the first 400 images labeled \"t-shirts\" in the training set."
   ]
  },
  {
   "cell_type": "code",
   "execution_count": null,
   "metadata": {},
   "outputs": [],
   "source": [
    "fig, ax = plt.subplots(figsize=(8, 8))\n",
    "\n",
    "plot_image_grid(ax, x_train[y_train_ == 0])\n",
    "\n",
    "plt.show()"
   ]
  },
  {
   "cell_type": "markdown",
   "metadata": {},
   "source": [
    "## Section 1 `[50%]`: Model Training\n",
    "\n",
    "Place all the code for training your model using the function `model_train` below. \n",
    "\n",
    "- We should be able to run your notebook (by clicking 'Cell->Run All') without errors. However, you must save the trained model in the file `model.npz`. This file will be loaded to make predictions in section 2 and assess the performance of your model in section 3. Note that, in addition to this notebook file, <span style=\"color:red\"> ** you must provide the file `model.npz` **</span>.\n",
    "\n",
    "- You should comment your code as much as possible so we understand your reasoning about training, model selection and avoiding overfitting. \n",
    "\n",
    "- You can process the data as you wish, e.g. by applying some additional transformations, reducing dimensionality, etc. However, all these should be here too. \n",
    "\n",
    "- Wrap all your training using the function `model_train` below. You can call all other custom functions within it."
   ]
  },
  {
   "cell_type": "code",
   "execution_count": null,
   "metadata": {},
   "outputs": [],
   "source": [
    "def model_train(x_train, y_train):\n",
    "    \"\"\"\n",
    "    Write your code here.\n",
    "    \"\"\"\n",
    "    model = None\n",
    "\n",
    "    # You can modify this to save other variables, etc \n",
    "    # but make sure the name of the file is 'model.npz.\n",
    "    np.savez_compressed('model.npz', model=model)"
   ]
  },
  {
   "cell_type": "markdown",
   "metadata": {},
   "source": [
    "## Section 2 `[30%]`: Predictions\n",
    "\n",
    "Here we will assume that there is a file `test.npz` from which we will load the test data.  As this file is not given to you, you will need to create one yourself (but not to submit it) to test your code. <span style=\"color:red\">Note that if you do not create this file the cell below will not run</span>. \n",
    "\n",
    "Your task is to fill in the `model_predict` function below. Note that this function should load your `model.npz` file, which must contain all the data structures necessary for making predictions."
   ]
  },
  {
   "cell_type": "code",
   "execution_count": null,
   "metadata": {},
   "outputs": [],
   "source": [
    "# create these yourself for your own testing but need to delete before submisson\n",
    "x_test = np.random.randn(10000, 784)\n",
    "y_test = np.random.randint(low=0, high=9, size=(10000,1))\n",
    "y_test.shape\n",
    "np.savez('test.npz', x_test=x_test, y_test=y_test)"
   ]
  },
  {
   "cell_type": "code",
   "execution_count": null,
   "metadata": {},
   "outputs": [],
   "source": [
    "test = np.load('test.npz')\n",
    "x_test = test.get('x_test')\n",
    "y_test = test.get('y_test')"
   ]
  },
  {
   "cell_type": "code",
   "execution_count": null,
   "metadata": {},
   "outputs": [],
   "source": [
    "x_test.shape"
   ]
  },
  {
   "cell_type": "code",
   "execution_count": null,
   "metadata": {},
   "outputs": [],
   "source": [
    "y_test_ = LabelBinarizer().fit_transform(y_test)\n",
    "y_test_.shape"
   ]
  },
  {
   "cell_type": "code",
   "execution_count": null,
   "metadata": {},
   "outputs": [],
   "source": [
    "fig, ax = plt.subplots()\n",
    "\n",
    "plot_image_grid(ax, x_test, n=8, m=3)\n",
    "\n",
    "plt.show()"
   ]
  },
  {
   "cell_type": "code",
   "execution_count": null,
   "metadata": {},
   "outputs": [],
   "source": [
    "def model_predict(x_test):\n",
    "    \"\"\"\n",
    "    @param x_test: (N_test,D)-array with test data\n",
    "    @return y_pred: (N,C)-array with predicted classes using one-hot-encoding \n",
    "    @return y_log_prob: (N,C)-array with  predicted log probability of the classes   \n",
    "    \"\"\"\n",
    "\n",
    "    # Add your code here: You should load your trained model here \n",
    "    # and write to the corresponding code for making predictions\n",
    "    model = np.load('model.npz');\n",
    "\n",
    "    return y_pred, y_log_prob"
   ]
  },
  {
   "cell_type": "markdown",
   "metadata": {},
   "source": [
    "## Section 3 `[20%]`: Performance \n",
    "\n",
    "You do not need to do anything in this section but you can use it to test the generalisation performance of your code. We will use it the evaluate the performance of your algorithm on a new test. "
   ]
  },
  {
   "cell_type": "code",
   "execution_count": null,
   "metadata": {},
   "outputs": [],
   "source": [
    "def model_performance(x_test, y_test, y_pred, y_log_prob):\n",
    "    \"\"\"\n",
    "    @param x_test: (N,D)-array of features \n",
    "    @param y_test: (N,C)-array of one-hot-encoded true classes\n",
    "    @param y_pred: (N,C)-array of one-hot-encoded predicted classes\n",
    "    @param y_log_prob: (N,C)-array of predicted class log probabilities \n",
    "    \"\"\"\n",
    "\n",
    "    acc = np.all(y_test == y_pred, axis=1).mean()\n",
    "    llh = y_log_prob[y_test == 1].mean()\n",
    "\n",
    "    return acc, llh"
   ]
  },
  {
   "cell_type": "code",
   "execution_count": null,
   "metadata": {},
   "outputs": [],
   "source": [
    "y_pred, y_log_prob = model_predict(x_test)\n",
    "acc, llh = model_performance(x_test, y_test, y_pred, y_log_prob)"
   ]
  },
  {
   "cell_type": "code",
   "execution_count": null,
   "metadata": {},
   "outputs": [],
   "source": [
    "'Average test accuracy=' + str(acc)"
   ]
  },
  {
   "cell_type": "code",
   "execution_count": null,
   "metadata": {},
   "outputs": [],
   "source": [
    "'Average test likelihood=' + str(llh)"
   ]
  }
 ],
 "metadata": {
  "kernelspec": {
   "display_name": "Python 3",
   "language": "python",
   "name": "python3"
  },
  "language_info": {
   "codemirror_mode": {
    "name": "ipython",
    "version": 3
   },
   "file_extension": ".py",
   "mimetype": "text/x-python",
   "name": "python",
   "nbconvert_exporter": "python",
   "pygments_lexer": "ipython3",
   "version": "3.6.4"
  }
 },
 "nbformat": 4,
 "nbformat_minor": 2
}
